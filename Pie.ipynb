{
 "cells": [
  {
   "cell_type": "code",
   "execution_count": 1,
   "metadata": {},
   "outputs": [],
   "source": [
    "from math import pi\n",
    "\n",
    "import pandas\n",
    "\n",
    "from bokeh.palettes import Category20c\n",
    "from bokeh.plotting import figure, output_file, show\n",
    "from bokeh.transform import cumsum\n",
    "\n",
    "output_file('Pie.html')\n",
    "\n",
    "data = pandas.read_csv('./countries.csv')\n",
    "\n",
    "country = data['Country']\n",
    "population = data['Population']\n",
    "\n",
    "data['angle'] = data['Population'] / data['Population'].sum() * ( 2 * pi)\n",
    "\n",
    "data['color'] = Category20c[len(data)]\n",
    "\n",
    "p = figure(outer_height = 400, title = 'Top 10 countries by population', toolbar_location = None, tools = 'hover',\n",
    "           tooltips = '@Country: @Population', x_range = (-0.5, 1.0))\n",
    "\n",
    "p.wedge(x = 0, y = 1, radius = 0.4, start_angle = cumsum('angle', include_zero = True), end_angle = cumsum('angle'),\n",
    "        line_color = 'white', fill_color = 'color', legend_field = 'Country', source = data)\n",
    "\n",
    "p.axis.axis_label = None\n",
    "p.axis.visible = False\n",
    "p.grid.grid_line_color = None\n",
    "\n",
    "show(p)"
   ]
  }
 ],
 "metadata": {
  "kernelspec": {
   "display_name": "venv",
   "language": "python",
   "name": "python3"
  },
  "language_info": {
   "codemirror_mode": {
    "name": "ipython",
    "version": 3
   },
   "file_extension": ".py",
   "mimetype": "text/x-python",
   "name": "python",
   "nbconvert_exporter": "python",
   "pygments_lexer": "ipython3",
   "version": "3.12.3"
  }
 },
 "nbformat": 4,
 "nbformat_minor": 2
}
