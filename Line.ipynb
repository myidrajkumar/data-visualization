{
 "cells": [
  {
   "cell_type": "code",
   "execution_count": 2,
   "metadata": {},
   "outputs": [],
   "source": [
    "from bokeh.plotting import figure, output_file, show\n",
    "\n",
    "x = [10, 20, 30, 40, 50, 60, 70, 90]\n",
    "y = [11, 12, 14, 16, 17, 18, 19, 21]\n",
    "\n",
    "output_file('line.html')\n",
    "\n",
    "p = figure(title = 'Basic Line Plot', x_axis_label = 'X-axis', y_axis_label = 'Y-axis')\n",
    "\n",
    "p.line(x, y, legend_label = 'Price', line_width = 3)\n",
    "\n",
    "show(p)"
   ]
  }
 ],
 "metadata": {
  "kernelspec": {
   "display_name": "venv",
   "language": "python",
   "name": "python3"
  },
  "language_info": {
   "codemirror_mode": {
    "name": "ipython",
    "version": 3
   },
   "file_extension": ".py",
   "mimetype": "text/x-python",
   "name": "python",
   "nbconvert_exporter": "python",
   "pygments_lexer": "ipython3",
   "version": "3.12.3"
  }
 },
 "nbformat": 4,
 "nbformat_minor": 2
}
