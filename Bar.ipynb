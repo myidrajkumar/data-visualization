{
 "cells": [
  {
   "cell_type": "code",
   "execution_count": 5,
   "metadata": {},
   "outputs": [],
   "source": [
    "from bokeh.models import ColumnDataSource\n",
    "from bokeh.palettes import Spectral10\n",
    "from bokeh.plotting import figure, output_file, show\n",
    "from bokeh.transform import factor_cmap\n",
    "\n",
    "import pandas\n",
    "\n",
    "#Reading Excel data into a Pandas dataframe\n",
    "top10 = pandas.read_excel('./top10.xlsx') \n",
    "\n",
    "#Creating output file\n",
    "output_file('bar.html')\n",
    "\n",
    "#Referencing the two columns that contain the necessary data\n",
    "language = top10['Language']\n",
    "rating = top10['Ratings']\n",
    "\n",
    "source = ColumnDataSource(data = dict(language = language, rating = rating))\n",
    "\n",
    "p = figure(x_range = language, outer_height = 800, toolbar_location = None, title = 'Top 10 Programming Languages')\n",
    "\n",
    "p.vbar(x = 'language', top = 'rating', width = 0.7, source = source, legend_label = 'Languages', line_color = 'white',\n",
    "       fill_color = factor_cmap('language', palette = Spectral10, factors = language))\n",
    "\n",
    "p.xgrid.grid_line_color = None\n",
    "p.y_range.start = 0\n",
    "p.y_range.end = 16\n",
    "p.legend.orientation = 'horizontal'\n",
    "p.legend.location = 'top_right'\n",
    "\n",
    "show(p)"
   ]
  }
 ],
 "metadata": {
  "kernelspec": {
   "display_name": "venv",
   "language": "python",
   "name": "python3"
  },
  "language_info": {
   "codemirror_mode": {
    "name": "ipython",
    "version": 3
   },
   "file_extension": ".py",
   "mimetype": "text/x-python",
   "name": "python",
   "nbconvert_exporter": "python",
   "pygments_lexer": "ipython3",
   "version": "3.12.3"
  }
 },
 "nbformat": 4,
 "nbformat_minor": 2
}
